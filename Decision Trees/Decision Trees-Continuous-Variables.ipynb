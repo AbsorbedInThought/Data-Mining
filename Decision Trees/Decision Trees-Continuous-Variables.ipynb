{
 "metadata": {
  "name": "",
  "signature": "sha256:d59d5667e29cb84a7471f2eb884ba8399e58ed2cc5371c618d98fefd68504066"
 },
 "nbformat": 3,
 "nbformat_minor": 0,
 "worksheets": [
  {
   "cells": [
    {
     "cell_type": "code",
     "collapsed": false,
     "input": [
      "%pylab inline\n",
      "import scipy.stats\n",
      "from collections import defaultdict  # default dictionary \n",
      "import copy"
     ],
     "language": "python",
     "metadata": {},
     "outputs": [
      {
       "output_type": "stream",
       "stream": "stdout",
       "text": [
        "Populating the interactive namespace from numpy and matplotlib\n"
       ]
      }
     ],
     "prompt_number": 1
    },
    {
     "cell_type": "code",
     "collapsed": false,
     "input": [
      "class Node:\n",
      "    def __init__(self,purity,klasslabel='',score=0,split=[],fidx=-1):\n",
      "        self.lchild=None       \n",
      "        self.rchild=None\n",
      "        self.klasslabel=klasslabel        \n",
      "        self.split=split\n",
      "        self.score=score\n",
      "        self.fidx=fidx\n",
      "        self.purity=purity\n",
      "        \n",
      "        \n",
      "    def set_childs(self,lchild,rchild):\n",
      "        \n",
      "        self.lchild=lchild\n",
      "        self.rchild=rchild\n",
      "\n",
      "        \n",
      "    def isleaf(self):\n",
      "        # Your Code Here\n",
      "\n",
      "    def isless_than_eq(self, X):\n",
      "        \n",
      "        # Your Code Here\n",
      "\n",
      "        \n",
      "    def get_str(self):        \n",
      "        if self.isleaf():\n",
      "            return 'C(class={},Purity={})'.format(self.klasslabel,self.purity)\n",
      "        else:\n",
      "            return 'I(Fidx={},Score={},Split={})'.format(self.fidx,self.score,self.split) "
     ],
     "language": "python",
     "metadata": {},
     "outputs": [],
     "prompt_number": 8
    },
    {
     "cell_type": "code",
     "collapsed": false,
     "input": [
      "## Your code goes here...\n",
      "\n",
      "class DecisionTree:\n",
      "    ''' Implements the Decision Tree For Classification... '''\n",
      "    def __init__(self, purityp, exthreshold,maxdepth=10,tree=None):        \n",
      "        self.purity=purityp\n",
      "        self.exthreshold=exthreshold\n",
      "        self.maxdepth=maxdepth\n",
      "        self.tree=tree\n",
      "        \n",
      "    def train(self, X, Y):\n",
      "        ''' Train Decision Tree using the given \n",
      "            X [m x d] data matrix and Y labels matrix\n",
      "            \n",
      "            Input:\n",
      "            ------\n",
      "            X: [m x d] a data matrix of m d-dimensional examples.\n",
      "            Y: [m x 1] a label vector.\n",
      "            \n",
      "            Returns:\n",
      "            -----------\n",
      "            Nothing\n",
      "            '''\n",
      "        nexamples,nfeatures=X.shape\n",
      "        ## now go and train a model for each class...\n",
      "        # YOUR CODE HERE\n",
      "       \n",
      "\n",
      "        \n",
      "        \n",
      "    def build_tree(self, X, Y, depth):\n",
      "        \"\"\" \n",
      "            Function is used to recursively build the decision Tree \n",
      "          \n",
      "            Input\n",
      "            -----\n",
      "            X: [m x d] a data matrix of m d-dimensional examples.\n",
      "            Y: [m x 1] a label vector.\n",
      "            \n",
      "            Returns\n",
      "            -------\n",
      "            root node of the built tree...\n",
      "        \"\"\"\n",
      "        nexamples, nfeatures=X.shape\n",
      "      \n",
      "        klasses,C=np.unique(Y,return_counts=True);\n",
      "        # YOUR CODE HERE      \n",
      "        \n",
      "                \n",
      "                \n",
      "        \n",
      "        \n",
      "    def test(self, X):\n",
      "        \n",
      "        ''' Test the trained classifiers on the given set of examples \n",
      "        \n",
      "                   \n",
      "            Input:\n",
      "            ------\n",
      "            X: [m x d] a data matrix of m d-dimensional test examples.\n",
      "           \n",
      "            Returns:\n",
      "            -----------\n",
      "                pclass: the predicted class for each example, i.e. to which it belongs\n",
      "        '''\n",
      "        \n",
      "        nexamples, nfeatures=X.shape\n",
      "        pclasses=self.predict(X)\n",
      "        \n",
      "        # your code go here...\n",
      "        \n",
      "    \n",
      "    def evaluate_numerical_attribute(self,feat, Y):\n",
      "        '''\n",
      "            Evaluates the numerical attribute for all possible split points for\n",
      "            possible feature selection\n",
      "            \n",
      "            Input:\n",
      "            ---------\n",
      "            feat: a contiuous feature\n",
      "            Y: labels\n",
      "            \n",
      "            Returns:\n",
      "            ----------\n",
      "            v: splitting threshold\n",
      "            score: splitting score\n",
      "            Xlidx: Index of examples belonging to left child node\n",
      "            Xridx: Index of examples belonging to right child node\n",
      "            \n",
      "        '''\n",
      "        \n",
      "        # A big source of Bugs will be sorting the same array and expecting it to behave original,\n",
      "        # use separate variables to store the sorted array and its corresponding classes labels...\n",
      "        \n",
      "        classes=np.unique(Y)\n",
      "        nclasses=len(classes)\n",
      "        sidx=np.argsort(feat)\n",
      "        f=feat[sidx] # sorted features\n",
      "        sY=Y[sidx] # sorted features class labels...\n",
      "        \n",
      "        # YOUR CODE HERE\n",
      "        \n",
      "        \n",
      "        return split, score, RightChildInd,leftChildInd\n",
      "        \n",
      "                    \n",
      "\n",
      "    \n",
      "    def predict(self, X):\n",
      "        \n",
      "        \"\"\"\n",
      "        Test the trained classifiers on the given example X\n",
      "        \n",
      "                   \n",
      "            Input:\n",
      "            ------\n",
      "            X: [1 x d] a d-dimensional test example.\n",
      "           \n",
      "            Returns:\n",
      "            -----------\n",
      "                pclass: the predicted class for the given example, i.e. to which it belongs\n",
      "        \"\"\"\n",
      "       #  # YOUR CODE HERE\n",
      "        \n",
      "        return pclass\n",
      "    \n",
      "    def _predict(self,node, X):\n",
      "        # YOUR CODE HERE\n",
      "      \n",
      "\n",
      "        \n",
      "\n",
      "    def __str__(self):\n",
      "        \n",
      "        return self.__print(self.tree)        \n",
      "        \n",
      "     \n",
      "    def find_depth(self):\n",
      "        \n",
      "        return self._find_depth(self.tree)\n",
      "    \n",
      "    \n",
      "    def _find_depth(self,node):\n",
      "        if not node:\n",
      "            return\n",
      "        if node.isleaf():\n",
      "            return 1\n",
      "        else:\n",
      "            return max(self._find_depth(node.lchild),self._find_depth(node.rchild))+1\n",
      "        \n",
      "    def __print(self,node,depth=0):\n",
      "        \n",
      "        ret = \"\"\n",
      "\n",
      "        # Print right branch\n",
      "        if node.rchild:\n",
      "            ret += self.__print(node.rchild,depth+1)\n",
      "\n",
      "        # Print own value\n",
      "        \n",
      "        ret += \"\\n\" + (\"    \"*depth) + node.get_str()\n",
      "\n",
      "        # Print left branch\n",
      "        if node.lchild:\n",
      "            ret += self.__print(node.lchild,depth+1)\n",
      "        \n",
      "        return ret"
     ],
     "language": "python",
     "metadata": {},
     "outputs": [],
     "prompt_number": 27
    },
    {
     "cell_type": "code",
     "collapsed": false,
     "input": [
      "import pandas as pd\n",
      "import tools as t # set of tools for plotting, data splitting, etc.."
     ],
     "language": "python",
     "metadata": {},
     "outputs": [],
     "prompt_number": 28
    },
    {
     "cell_type": "code",
     "collapsed": false,
     "input": [
      "#load the data set\n",
      "data=pd.read_csv('./iris.data')\n",
      "data.columns=['SepalLength','SepalWidth','PetalLength','PetalWidth','Class']\n",
      "print (data.describe())"
     ],
     "language": "python",
     "metadata": {},
     "outputs": [
      {
       "output_type": "stream",
       "stream": "stdout",
       "text": [
        "       SepalLength  SepalWidth  PetalLength  PetalWidth\n",
        "count   149.000000  149.000000   149.000000  149.000000\n",
        "mean      5.848322    3.051007     3.774497    1.205369\n",
        "std       0.828594    0.433499     1.759651    0.761292\n",
        "min       4.300000    2.000000     1.000000    0.100000\n",
        "25%       5.100000    2.800000     1.600000    0.300000\n",
        "50%       5.800000    3.000000     4.400000    1.300000\n",
        "75%       6.400000    3.300000     5.100000    1.800000\n",
        "max       7.900000    4.400000     6.900000    2.500000\n"
       ]
      }
     ],
     "prompt_number": 29
    },
    {
     "cell_type": "code",
     "collapsed": false,
     "input": [
      "# Get your data in matrix (X ,Y)\n",
      "\n",
      "    \n",
      "print (\" Data Set Dimensions=\", X.shape, \" True Class labels dimensions\", Y.shape)   "
     ],
     "language": "python",
     "metadata": {},
     "outputs": [
      {
       "output_type": "stream",
       "stream": "stdout",
       "text": [
        " Data Set Dimensions= (149, 4)  True Class labels dimensions (149,)\n"
       ]
      }
     ],
     "prompt_number": 36
    },
    {
     "cell_type": "code",
     "collapsed": false,
     "input": [
      "print (len(Y))\n",
      "feat=[0,1]\n",
      "dt=DecisionTree(0.95,5,2)\n",
      "feat=[0,1]\n",
      "dt.classes=np.unique(Y)\n",
      "dt.nclasses=len(np.unique(Y))\n",
      "split,mingain,Xlidx,Xridx=dt.evaluate_numerical_attribute(X[:,0],Y)\n",
      "print (split)\n",
      "# You should get following result:,\n",
      "# Split=5.45, entropy=0.388707191825"
     ],
     "language": "python",
     "metadata": {},
     "outputs": [
      {
       "output_type": "stream",
       "stream": "stdout",
       "text": [
        "149\n",
        "5.5\n"
       ]
      }
     ],
     "prompt_number": 37
    },
    {
     "cell_type": "code",
     "collapsed": false,
     "input": [
      "print (len(Y))\n",
      "dt=DecisionTree(0.95,5)\n",
      "dt.train(X[:,feat],Y)\n",
      "# g,s,xl,xr=dt.evaluate_numerical_attribute(X[:,2],Y)\n",
      "#print g, s, xl, xr"
     ],
     "language": "python",
     "metadata": {},
     "outputs": [
      {
       "output_type": "stream",
       "stream": "stdout",
       "text": [
        "149\n"
       ]
      }
     ],
     "prompt_number": 40
    },
    {
     "cell_type": "code",
     "collapsed": false,
     "input": [
      "# %pdb\n",
      "print (\" Plotting the Decision Surface of Training Set... \")\n",
      "t.plot_decision_regions(X[:,feat],Y,clf=dt, res=0.1, cycle_marker=True, legend=1)"
     ],
     "language": "python",
     "metadata": {},
     "outputs": [
      {
       "output_type": "stream",
       "stream": "stdout",
       "text": [
        " Plotting the Decision Surface of Training Set... \n"
       ]
      },
      {
       "metadata": {},
       "output_type": "display_data",
       "png": "[encoded data removed]",
       "text": [
        "<matplotlib.figure.Figure at 0x7f8636a6a400>"
       ]
      }
     ],
     "prompt_number": 41
    },
    {
     "cell_type": "code",
     "collapsed": false,
     "input": [
      "# Split your data into training and test-set... \n",
      "# see the documentation of split_data in tools for further information...\n",
      "Xtrain,Ytrain,Xtest,Ytest=t.split_data(X,Y)\n",
      "\n",
      "print (\" Training Data Set Dimensions=\", Xtrain.shape, \"Training True Class labels dimensions\", Ytrain.shape)\n",
      "print (\" Test Data Set Dimensions=\", Xtest.shape, \"Test True Class labels dimensions\", Ytrain.shape)   "
     ],
     "language": "python",
     "metadata": {},
     "outputs": [
      {
       "output_type": "stream",
       "stream": "stdout",
       "text": [
        " Training Data Set Dimensions= (104, 4) Training True Class labels dimensions (104,)\n",
        " Test Data Set Dimensions= (45, 4) Test True Class labels dimensions (104,)\n"
       ]
      }
     ],
     "prompt_number": 35
    },
    {
     "cell_type": "code",
     "collapsed": false,
     "input": [
      "# Lets train a Decision Tree Classifier on Petal Length and Width\n",
      "feat=[0,1]\n",
      "dt=DecisionTree(0.95,5)\n",
      "dt.train(Xtrain[:,feat],Ytrain)"
     ],
     "language": "python",
     "metadata": {},
     "outputs": [],
     "prompt_number": 42
    },
    {
     "cell_type": "code",
     "collapsed": false,
     "input": [
      "#Lets test it on the set of unseen examples...\n",
      "pclasses=dt.predict(Xtest[:,feat])"
     ],
     "language": "python",
     "metadata": {},
     "outputs": [],
     "prompt_number": 43
    },
    {
     "cell_type": "heading",
     "level": 1,
     "metadata": {},
     "source": [
      "Let's See How Good we are doing"
     ]
    },
    {
     "cell_type": "code",
     "collapsed": false,
     "input": [
      "#Lets see how good we are doing, by finding the accuracy on the test set..\n",
      "print (np.sum(pclasses==Ytest))\n",
      "print (\"Accuracy = \", np.sum(pclasses==Ytest)/float(Ytest.shape[0]))"
     ],
     "language": "python",
     "metadata": {},
     "outputs": [
      {
       "output_type": "stream",
       "stream": "stdout",
       "text": [
        "42\n",
        "Accuracy =  0.933333333333\n"
       ]
      }
     ],
     "prompt_number": 46
    },
    {
     "cell_type": "heading",
     "level": 1,
     "metadata": {},
     "source": [
      "Lets Train on All 4 Features and all 3 classes "
     ]
    },
    {
     "cell_type": "code",
     "collapsed": false,
     "input": [
      "# Split your data into training and test-set... \n",
      "# see the documentation of split_data in tools for further information...\n",
      "Xtrain,Ytrain,Xtest,Ytest=t.split_data(X,Y)\n",
      "\n",
      "print (\" Training Data Set Dimensions=\", Xtrain.shape, \"Training True Class labels dimensions\", Ytrain.shape)\n",
      "print (\" Test Data Set Dimensions=\", Xtest.shape, \"Test True Class labels dimensions\", Ytrain.shape)   "
     ],
     "language": "python",
     "metadata": {},
     "outputs": [
      {
       "output_type": "stream",
       "stream": "stdout",
       "text": [
        " Training Data Set Dimensions= (104, 4) Training True Class labels dimensions (104,)\n",
        " Test Data Set Dimensions= (45, 4) Test True Class labels dimensions (104,)\n"
       ]
      }
     ],
     "prompt_number": 84
    },
    {
     "cell_type": "code",
     "collapsed": false,
     "input": [
      "dt=DecisionTree(0.95,5)\n",
      "dt.train(Xtrain,Ytrain)\n",
      "pclasses=dt.predict(Xtest)\n",
      "#Lets see how good we are doing, by finding the accuracy on the test set..\n",
      "print (np.sum(pclasses==Ytest))\n",
      "print (\"Accuracy = \", np.sum(pclasses==Ytest)/float(Ytest.shape[0]))"
     ],
     "language": "python",
     "metadata": {},
     "outputs": [
      {
       "output_type": "stream",
       "stream": "stdout",
       "text": [
        "44\n",
        "Accuracy =  0.977777777778\n"
       ]
      }
     ],
     "prompt_number": 85
    },
    {
     "cell_type": "code",
     "collapsed": false,
     "input": [],
     "language": "python",
     "metadata": {},
     "outputs": [],
     "prompt_number": 50
    },
    {
     "cell_type": "code",
     "collapsed": false,
     "input": [],
     "language": "python",
     "metadata": {},
     "outputs": []
    }
   ],
   "metadata": {}
  }
 ]
}